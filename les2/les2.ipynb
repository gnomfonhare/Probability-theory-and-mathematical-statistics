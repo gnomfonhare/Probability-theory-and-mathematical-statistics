{
 "cells": [
  {
   "cell_type": "code",
   "execution_count": 1,
   "id": "91fef8f7",
   "metadata": {},
   "outputs": [],
   "source": [
    "import numpy as np\n",
    "from math import factorial\n",
    "def combinations(n, k):\n",
    "    return int(factorial(n) / (factorial(k) * factorial(n - k)))"
   ]
  },
  {
   "cell_type": "markdown",
   "id": "73cf77e2",
   "metadata": {},
   "source": [
    "## Ex.1"
   ]
  },
  {
   "cell_type": "markdown",
   "id": "84304bcb",
   "metadata": {},
   "source": [
    "Вероятность того, что стрелок попадет в мишень, выстрелив один раз, равна 0.8. Стрелок выстрелил 100 раз. Найдите вероятность того, что стрелок попадет в цель ровно 85 раз."
   ]
  },
  {
   "cell_type": "markdown",
   "id": "d6b12734",
   "metadata": {},
   "source": [
    "Применимо биномиальное распределение. Вероятность по формуле Бернулли:"
   ]
  },
  {
   "cell_type": "code",
   "execution_count": 2,
   "id": "4e89dd68",
   "metadata": {},
   "outputs": [
    {
     "data": {
      "text/plain": [
       "0.048061793700746355"
      ]
     },
     "execution_count": 2,
     "metadata": {},
     "output_type": "execute_result"
    }
   ],
   "source": [
    "p1 = 0.8\n",
    "n1 = 100\n",
    "k1 = 85\n",
    "x1 = combinations(n1, k1) * (p1**k1) * ((1-p1)**(n1-k1))\n",
    "x1"
   ]
  },
  {
   "cell_type": "markdown",
   "id": "be5f300e",
   "metadata": {},
   "source": [
    "### Ex.2"
   ]
  },
  {
   "cell_type": "markdown",
   "id": "201d2f72",
   "metadata": {},
   "source": [
    "Вероятность того, что лампочка перегорит в течение первого дня эксплуатации, равна 0.0004. В жилом комплексе после ремонта в один день включили 5000 новых лампочек. Какова вероятность, что ни одна из них не перегорит в первый день? Какова вероятность, что перегорят ровно две?"
   ]
  },
  {
   "cell_type": "markdown",
   "id": "3d7a6588",
   "metadata": {},
   "source": [
    "С учётом малой вероятности и большого количества испытания, можно использовать формулу Пуассона:"
   ]
  },
  {
   "cell_type": "code",
   "execution_count": 3,
   "id": "a94cbb2f",
   "metadata": {},
   "outputs": [
    {
     "data": {
      "text/plain": [
       "0.1353352832366127"
      ]
     },
     "execution_count": 3,
     "metadata": {},
     "output_type": "execute_result"
    }
   ],
   "source": [
    "n2 = 5000\n",
    "p2 = 0.0004\n",
    "lambda_ = n2 * p2\n",
    "m0 = 0\n",
    "p0 = (lambda_**m0 / np.math.factorial(m0)) * np.exp(-lambda_)\n",
    "p0"
   ]
  },
  {
   "cell_type": "code",
   "execution_count": 4,
   "id": "3b44f503",
   "metadata": {},
   "outputs": [
    {
     "data": {
      "text/plain": [
       "0.2706705664732254"
      ]
     },
     "execution_count": 4,
     "metadata": {},
     "output_type": "execute_result"
    }
   ],
   "source": [
    "m2 = 2\n",
    "p2 = (lambda_**m2 / np.math.factorial(m2)) * np.exp(-lambda_)\n",
    "p2"
   ]
  },
  {
   "cell_type": "markdown",
   "id": "f53519e4",
   "metadata": {},
   "source": [
    "### Ex.3"
   ]
  },
  {
   "cell_type": "markdown",
   "id": "fb255ef6",
   "metadata": {},
   "source": [
    "Монету подбросили 144 раза. Какова вероятность, что орел выпадет ровно 70 раз?"
   ]
  },
  {
   "cell_type": "markdown",
   "id": "065db657",
   "metadata": {},
   "source": [
    "Применимо биномиальное распределение. Вероятность по формуле Бернулли:"
   ]
  },
  {
   "cell_type": "code",
   "execution_count": 5,
   "id": "9e6cfe6f",
   "metadata": {},
   "outputs": [
    {
     "data": {
      "text/plain": [
       "0.06281178035144776"
      ]
     },
     "execution_count": 5,
     "metadata": {},
     "output_type": "execute_result"
    }
   ],
   "source": [
    "p3 = 0.5\n",
    "n3 = 144\n",
    "k3 = 70\n",
    "m = n3 * p3\n",
    "d = n3 * p3 * (1-p3)\n",
    "x3 = combinations(n3, k3) * (p3**k3) * ((1-p3)**(n3-k3))\n",
    "x3"
   ]
  },
  {
   "cell_type": "markdown",
   "id": "9b767967",
   "metadata": {},
   "source": [
    "### Ex.4"
   ]
  },
  {
   "cell_type": "markdown",
   "id": "f1dda324",
   "metadata": {},
   "source": [
    "В первом ящике находится 10 мячей, из которых 7 - белые. Во втором ящике - 11 мячей, из которых 9 белых. Из каждого ящика вытаскивают случайным образом по два мяча."
   ]
  },
  {
   "cell_type": "markdown",
   "id": "c0f4904c",
   "metadata": {},
   "source": [
    "Какова вероятность того, что все мячи белые?"
   ]
  },
  {
   "cell_type": "markdown",
   "id": "c397da4d",
   "metadata": {},
   "source": [
    "В данном случае мы должны вытащить 2 белых шара из первого ящика (7 к 10 и 6 к 9) и 2 белых шара из второго ящика (9 к 11 и 8 к 10):"
   ]
  },
  {
   "cell_type": "code",
   "execution_count": 6,
   "id": "96d5bb54",
   "metadata": {},
   "outputs": [
    {
     "data": {
      "text/plain": [
       "0.3054545454545454"
      ]
     },
     "execution_count": 6,
     "metadata": {},
     "output_type": "execute_result"
    }
   ],
   "source": [
    "p4_1 = 7/10 * 6/9 * 9/11 * 8/10\n",
    "p4_1"
   ]
  },
  {
   "cell_type": "markdown",
   "id": "7f40a2f9",
   "metadata": {},
   "source": [
    "Какова вероятность того, что ровно два мяча белые?"
   ]
  },
  {
   "cell_type": "markdown",
   "id": "7d14b720",
   "metadata": {},
   "source": [
    "В данном случае есть несколько комбинаций: по одному белому шару из каждого ящика и по одному обычному из каждого ящика (p4_2_1), 2 белых из первого ящика и 2 обычных из второго ящика (p4_2_2), 2 обычных из первого ящика и 2 белых из второго ящика (p4_2_3):"
   ]
  },
  {
   "cell_type": "code",
   "execution_count": 7,
   "id": "cf3e0789",
   "metadata": {},
   "outputs": [
    {
     "data": {
      "text/plain": [
       "0.20484848484848484"
      ]
     },
     "execution_count": 7,
     "metadata": {},
     "output_type": "execute_result"
    }
   ],
   "source": [
    "p4_2_1 = ((7/10 * 3/9) + (3/10 * 7/9)) * ((9/11 * 2/10) + (2/11 * 9/10))\n",
    "p4_2_2 = 7/10 * 6/9 * 2/11 * 1/10\n",
    "p4_2_3 = 3/10 * 2/9 * 9/11 * 8/10\n",
    "p4_2 = p4_2_1 + p4_2_2 + p4_2_3\n",
    "p4_2"
   ]
  },
  {
   "cell_type": "markdown",
   "id": "8af4e626",
   "metadata": {},
   "source": [
    "Какова вероятность того, что хотя бы один мяч белый?"
   ]
  },
  {
   "cell_type": "markdown",
   "id": "32a97eff",
   "metadata": {},
   "source": [
    "Вычтем из единицы вероятность вытащить 2 обычных шара из первого ящика и 2 обычных шара из второго:"
   ]
  },
  {
   "cell_type": "code",
   "execution_count": 8,
   "id": "e954d5dd",
   "metadata": {},
   "outputs": [
    {
     "data": {
      "text/plain": [
       "0.9987878787878788"
      ]
     },
     "execution_count": 8,
     "metadata": {},
     "output_type": "execute_result"
    }
   ],
   "source": [
    "p4_3 = 1 - 3/10 * 2/9 * 2/11 * 1/10\n",
    "p4_3"
   ]
  },
  {
   "cell_type": "code",
   "execution_count": null,
   "id": "304cfe39",
   "metadata": {},
   "outputs": [],
   "source": []
  }
 ],
 "metadata": {
  "kernelspec": {
   "display_name": "Python 3 (ipykernel)",
   "language": "python",
   "name": "python3"
  },
  "language_info": {
   "codemirror_mode": {
    "name": "ipython",
    "version": 3
   },
   "file_extension": ".py",
   "mimetype": "text/x-python",
   "name": "python",
   "nbconvert_exporter": "python",
   "pygments_lexer": "ipython3",
   "version": "3.9.7"
  }
 },
 "nbformat": 4,
 "nbformat_minor": 5
}
