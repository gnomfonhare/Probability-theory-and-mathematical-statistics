{
 "cells": [
  {
   "cell_type": "markdown",
   "id": "02bde473",
   "metadata": {},
   "source": [
    "## Ex.1"
   ]
  },
  {
   "cell_type": "markdown",
   "id": "15d1bb21",
   "metadata": {},
   "source": [
    "##### Из колоды в 52 карты извлекаются случайным образом 4 карты. a) Найти вероятность того, что все карты – крести. б) Найти вероятность, что среди 4-х карт окажется хотя бы один туз."
   ]
  },
  {
   "cell_type": "code",
   "execution_count": 1,
   "id": "7badff88",
   "metadata": {},
   "outputs": [],
   "source": [
    "from math import factorial\n",
    "def combinations(n, k):\n",
    "    return int(factorial(n) / (factorial(k) * factorial(n - k)))"
   ]
  },
  {
   "cell_type": "markdown",
   "id": "a07bf22b",
   "metadata": {},
   "source": [
    "### a)"
   ]
  },
  {
   "cell_type": "markdown",
   "id": "e2982385",
   "metadata": {},
   "source": [
    "#### a1 - количество способов извлечь 4 карты из 13 карт одной масти (число исходов, благоприятствующих событию)"
   ]
  },
  {
   "cell_type": "code",
   "execution_count": 2,
   "id": "d55c2531",
   "metadata": {},
   "outputs": [
    {
     "data": {
      "text/plain": [
       "715"
      ]
     },
     "execution_count": 2,
     "metadata": {},
     "output_type": "execute_result"
    }
   ],
   "source": [
    "a1 = combinations(13,4)\n",
    "a1"
   ]
  },
  {
   "cell_type": "markdown",
   "id": "62d3c3cf",
   "metadata": {},
   "source": [
    "#### a2 - количество способов извлечь 4 карты из колоды в 52 карты (общее число исходов)"
   ]
  },
  {
   "cell_type": "code",
   "execution_count": 3,
   "id": "62c1157b",
   "metadata": {},
   "outputs": [
    {
     "data": {
      "text/plain": [
       "270725"
      ]
     },
     "execution_count": 3,
     "metadata": {},
     "output_type": "execute_result"
    }
   ],
   "source": [
    "a2 = combinations(52,4)\n",
    "a2"
   ]
  },
  {
   "cell_type": "markdown",
   "id": "d8e51b94",
   "metadata": {},
   "source": [
    "#### p1 - вероятность благоприятного исхода события:"
   ]
  },
  {
   "cell_type": "code",
   "execution_count": 4,
   "id": "547daed0",
   "metadata": {},
   "outputs": [
    {
     "data": {
      "text/plain": [
       "0.0026410564225690276"
      ]
     },
     "execution_count": 4,
     "metadata": {},
     "output_type": "execute_result"
    }
   ],
   "source": [
    "p1 = a1/a2\n",
    "p1"
   ]
  },
  {
   "cell_type": "markdown",
   "id": "73678961",
   "metadata": {},
   "source": [
    "### б)"
   ]
  },
  {
   "cell_type": "markdown",
   "id": "643e6bd6",
   "metadata": {},
   "source": [
    "#### b1 - количество исходов, где выбран 1 туз и 3 карты из оставшихся 48 карт"
   ]
  },
  {
   "cell_type": "code",
   "execution_count": 5,
   "id": "2a530aac",
   "metadata": {},
   "outputs": [
    {
     "data": {
      "text/plain": [
       "69184"
      ]
     },
     "execution_count": 5,
     "metadata": {},
     "output_type": "execute_result"
    }
   ],
   "source": [
    "b1 = combinations(4,1) * combinations(48,3)\n",
    "b1"
   ]
  },
  {
   "cell_type": "markdown",
   "id": "cdd59c68",
   "metadata": {},
   "source": [
    "#### b2 - количество исходов, где выбраны 2 туза и 2 карты из оставшихся 48 карт"
   ]
  },
  {
   "cell_type": "code",
   "execution_count": 6,
   "id": "7d99320f",
   "metadata": {},
   "outputs": [
    {
     "data": {
      "text/plain": [
       "6768"
      ]
     },
     "execution_count": 6,
     "metadata": {},
     "output_type": "execute_result"
    }
   ],
   "source": [
    "b2 = combinations(4,2) * combinations(48,2)\n",
    "b2"
   ]
  },
  {
   "cell_type": "markdown",
   "id": "21ef9f7f",
   "metadata": {},
   "source": [
    "#### b3 - количество исходов, где выбраны 3 туза и 1 карта из оставшихся 48 карт"
   ]
  },
  {
   "cell_type": "code",
   "execution_count": 7,
   "id": "314bc59b",
   "metadata": {},
   "outputs": [
    {
     "data": {
      "text/plain": [
       "192"
      ]
     },
     "execution_count": 7,
     "metadata": {},
     "output_type": "execute_result"
    }
   ],
   "source": [
    "b3 = combinations(4,3) * combinations(48,1)\n",
    "b3"
   ]
  },
  {
   "cell_type": "markdown",
   "id": "ecc61ae5",
   "metadata": {},
   "source": [
    "#### b4 - количество исходов, где все 4 карты - тузы"
   ]
  },
  {
   "cell_type": "code",
   "execution_count": 8,
   "id": "0794c47f",
   "metadata": {},
   "outputs": [
    {
     "data": {
      "text/plain": [
       "1"
      ]
     },
     "execution_count": 8,
     "metadata": {},
     "output_type": "execute_result"
    }
   ],
   "source": [
    "b4 = combinations(4,4) * combinations(48,0)\n",
    "b4"
   ]
  },
  {
   "cell_type": "markdown",
   "id": "5cc70a1b",
   "metadata": {},
   "source": [
    "#### p2 - вероятность, что среди 4-х карт окажется хотя бы один туз:"
   ]
  },
  {
   "cell_type": "code",
   "execution_count": 9,
   "id": "c8da4249",
   "metadata": {},
   "outputs": [
    {
     "data": {
      "text/plain": [
       "0.2812632745405855"
      ]
     },
     "execution_count": 9,
     "metadata": {},
     "output_type": "execute_result"
    }
   ],
   "source": [
    "p2 = (b1 + b2 + b3 + b4)/a2\n",
    "p2"
   ]
  },
  {
   "cell_type": "markdown",
   "id": "f5d7b37d",
   "metadata": {},
   "source": [
    "## Ex.2"
   ]
  },
  {
   "cell_type": "markdown",
   "id": "7501c098",
   "metadata": {},
   "source": [
    "#### На входной двери подъезда установлен кодовый замок, содержащий десять кнопок с цифрами от 0 до 9. Код содержит три цифры, которые нужно нажать одновременно. Какова вероятность того, что человек, не знающий код, откроет дверь с первой попытки?"
   ]
  },
  {
   "cell_type": "markdown",
   "id": "8fb0aff1",
   "metadata": {},
   "source": [
    "#### с - количество исходов для 3 цифр из 10"
   ]
  },
  {
   "cell_type": "code",
   "execution_count": 10,
   "id": "ef9c6213",
   "metadata": {},
   "outputs": [
    {
     "data": {
      "text/plain": [
       "120"
      ]
     },
     "execution_count": 10,
     "metadata": {},
     "output_type": "execute_result"
    }
   ],
   "source": [
    "c = combinations(10, 3)\n",
    "c"
   ]
  },
  {
   "cell_type": "markdown",
   "id": "ab0353f9",
   "metadata": {},
   "source": [
    "#### m - количество благоприятных исходов (в нашем случае единственный)"
   ]
  },
  {
   "cell_type": "code",
   "execution_count": 11,
   "id": "51c45832",
   "metadata": {},
   "outputs": [],
   "source": [
    "m = 1"
   ]
  },
  {
   "cell_type": "markdown",
   "id": "7106493e",
   "metadata": {},
   "source": [
    "#### p3 - вероятность того, что человек, не знающий код, откроет дверь с первой попытки"
   ]
  },
  {
   "cell_type": "code",
   "execution_count": 12,
   "id": "f2ae5619",
   "metadata": {},
   "outputs": [
    {
     "data": {
      "text/plain": [
       "0.008333333333333333"
      ]
     },
     "execution_count": 12,
     "metadata": {},
     "output_type": "execute_result"
    }
   ],
   "source": [
    "p3 = m/c\n",
    "p3"
   ]
  },
  {
   "cell_type": "markdown",
   "id": "4de73e17",
   "metadata": {},
   "source": [
    "## Ex.3"
   ]
  },
  {
   "cell_type": "markdown",
   "id": "252d5ca4",
   "metadata": {},
   "source": [
    "#### В ящике имеется 15 деталей, из которых 9 окрашены. Рабочий случайным образом извлекает 3 детали. Какова вероятность того, что все извлеченные детали окрашены?"
   ]
  },
  {
   "cell_type": "markdown",
   "id": "d9902921",
   "metadata": {},
   "source": [
    "#### d1 - количество способов извлечь 3 детали из 9 окрашенных (число исходов, благоприятствующих событию)"
   ]
  },
  {
   "cell_type": "code",
   "execution_count": 13,
   "id": "b03adc7e",
   "metadata": {},
   "outputs": [
    {
     "data": {
      "text/plain": [
       "84"
      ]
     },
     "execution_count": 13,
     "metadata": {},
     "output_type": "execute_result"
    }
   ],
   "source": [
    "d1 = combinations(9,3)\n",
    "d1"
   ]
  },
  {
   "cell_type": "markdown",
   "id": "e93a834f",
   "metadata": {},
   "source": [
    "#### d2 - количество способов извлечь 3 детали из 15 (общее число исходов)"
   ]
  },
  {
   "cell_type": "code",
   "execution_count": 14,
   "id": "d47d9e95",
   "metadata": {},
   "outputs": [
    {
     "data": {
      "text/plain": [
       "455"
      ]
     },
     "execution_count": 14,
     "metadata": {},
     "output_type": "execute_result"
    }
   ],
   "source": [
    "d2 = combinations(15,3)\n",
    "d2"
   ]
  },
  {
   "cell_type": "markdown",
   "id": "75daa03a",
   "metadata": {},
   "source": [
    "#### p4 - вероятность того, что все извлеченные детали окрашены:"
   ]
  },
  {
   "cell_type": "code",
   "execution_count": 15,
   "id": "6d14e704",
   "metadata": {},
   "outputs": [
    {
     "data": {
      "text/plain": [
       "0.18461538461538463"
      ]
     },
     "execution_count": 15,
     "metadata": {},
     "output_type": "execute_result"
    }
   ],
   "source": [
    "p4 = d1/d2\n",
    "p4"
   ]
  },
  {
   "cell_type": "markdown",
   "id": "cc673901",
   "metadata": {},
   "source": [
    "## Ex.4"
   ]
  },
  {
   "cell_type": "markdown",
   "id": "e9d9dfad",
   "metadata": {},
   "source": [
    "#### В лотерее 100 билетов. Из них 2 выигрышных. Какова вероятность того, что 2 приобретенных билета окажутся выигрышными?"
   ]
  },
  {
   "cell_type": "markdown",
   "id": "0403507d",
   "metadata": {},
   "source": [
    "#### e1 - количество способов купить 2 из 2 выигрышных билетов (число исходов, благоприятствующих событию)"
   ]
  },
  {
   "cell_type": "code",
   "execution_count": 16,
   "id": "047c5551",
   "metadata": {},
   "outputs": [
    {
     "data": {
      "text/plain": [
       "1"
      ]
     },
     "execution_count": 16,
     "metadata": {},
     "output_type": "execute_result"
    }
   ],
   "source": [
    "e1 = combinations(2,2) * combinations(98,0)\n",
    "e1"
   ]
  },
  {
   "cell_type": "markdown",
   "id": "4de222eb",
   "metadata": {},
   "source": [
    "#### e2 - количество способов купить 2 билета из 100 штук (общее число исходов)"
   ]
  },
  {
   "cell_type": "code",
   "execution_count": 17,
   "id": "aa83e2ef",
   "metadata": {},
   "outputs": [
    {
     "data": {
      "text/plain": [
       "4950"
      ]
     },
     "execution_count": 17,
     "metadata": {},
     "output_type": "execute_result"
    }
   ],
   "source": [
    "e2 = combinations(100,2)\n",
    "e2"
   ]
  },
  {
   "cell_type": "markdown",
   "id": "c8c6ab82",
   "metadata": {},
   "source": [
    "#### p5 - вероятность того, что 2 купленных билета окажутся выигрышными"
   ]
  },
  {
   "cell_type": "code",
   "execution_count": 18,
   "id": "17757d85",
   "metadata": {},
   "outputs": [
    {
     "data": {
      "text/plain": [
       "0.00020202020202020202"
      ]
     },
     "execution_count": 18,
     "metadata": {},
     "output_type": "execute_result"
    }
   ],
   "source": [
    "p5 = e1/e2\n",
    "p5"
   ]
  },
  {
   "cell_type": "code",
   "execution_count": null,
   "id": "0839d1ac",
   "metadata": {},
   "outputs": [],
   "source": []
  }
 ],
 "metadata": {
  "kernelspec": {
   "display_name": "Python 3 (ipykernel)",
   "language": "python",
   "name": "python3"
  },
  "language_info": {
   "codemirror_mode": {
    "name": "ipython",
    "version": 3
   },
   "file_extension": ".py",
   "mimetype": "text/x-python",
   "name": "python",
   "nbconvert_exporter": "python",
   "pygments_lexer": "ipython3",
   "version": "3.9.7"
  }
 },
 "nbformat": 4,
 "nbformat_minor": 5
}
