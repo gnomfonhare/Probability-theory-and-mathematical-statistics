{
 "cells": [
  {
   "cell_type": "code",
   "execution_count": 5,
   "id": "41c3a22b",
   "metadata": {},
   "outputs": [],
   "source": [
    "from math import sqrt"
   ]
  },
  {
   "cell_type": "markdown",
   "id": "cf15f679",
   "metadata": {},
   "source": [
    "### Ex.1"
   ]
  },
  {
   "cell_type": "markdown",
   "id": "c167b843",
   "metadata": {},
   "source": [
    "Случайная непрерывная величина A имеет равномерное распределение на промежутке (200, 800].\n",
    "Найдите ее среднее значение и дисперсию."
   ]
  },
  {
   "cell_type": "code",
   "execution_count": 1,
   "id": "f7134ff2",
   "metadata": {},
   "outputs": [
    {
     "data": {
      "text/plain": [
       "500.0"
      ]
     },
     "execution_count": 1,
     "metadata": {},
     "output_type": "execute_result"
    }
   ],
   "source": [
    "a1 = 200\n",
    "b1 = 800\n",
    "M1 = (a1 + b1) / 2\n",
    "M1"
   ]
  },
  {
   "cell_type": "code",
   "execution_count": 2,
   "id": "f366f16f",
   "metadata": {},
   "outputs": [
    {
     "data": {
      "text/plain": [
       "30000.0"
      ]
     },
     "execution_count": 2,
     "metadata": {},
     "output_type": "execute_result"
    }
   ],
   "source": [
    "D1 = (b1 - a1) ** 2 / 12\n",
    "D1"
   ]
  },
  {
   "cell_type": "markdown",
   "id": "722bcfca",
   "metadata": {},
   "source": [
    "### Ex.2"
   ]
  },
  {
   "cell_type": "markdown",
   "id": "75f97372",
   "metadata": {},
   "source": [
    "О случайной непрерывной равномерно распределенной величине B известно, что ее дисперсия равна 0.2.\n",
    "Можно ли найти правую границу величины B и ее среднее значение зная, что левая граница равна 0.5?\n",
    "Если да, найдите ее."
   ]
  },
  {
   "cell_type": "code",
   "execution_count": 6,
   "id": "938ed7f7",
   "metadata": {},
   "outputs": [
    {
     "data": {
      "text/plain": [
       "2.049193338482967"
      ]
     },
     "execution_count": 6,
     "metadata": {},
     "output_type": "execute_result"
    }
   ],
   "source": [
    "D2 = 0.2\n",
    "a2 = 0.5\n",
    "b2 = sqrt(D2 * 12) + a2\n",
    "b2"
   ]
  },
  {
   "cell_type": "code",
   "execution_count": 7,
   "id": "9b38f6cb",
   "metadata": {},
   "outputs": [
    {
     "data": {
      "text/plain": [
       "1.2745966692414834"
      ]
     },
     "execution_count": 7,
     "metadata": {},
     "output_type": "execute_result"
    }
   ],
   "source": [
    "M2 = (a2 + b2) / 2\n",
    "M2"
   ]
  },
  {
   "cell_type": "markdown",
   "id": "914e2886",
   "metadata": {},
   "source": [
    "### Ex.3"
   ]
  },
  {
   "cell_type": "markdown",
   "id": "973d5e3d",
   "metadata": {},
   "source": [
    "Непрерывная случайная величина X распределена нормально и задана плотностью распределения\n",
    "f(x) = (1 / (4 * sqrt(2*pi))) * (exp(-(x+2)**2) / 32).\n",
    "Найдите:\n",
    "\n",
    "а). M(X)\n",
    "\n",
    "б). D(X)\n",
    "\n",
    "в). std(X) (среднее квадратичное отклонение)"
   ]
  },
  {
   "cell_type": "markdown",
   "id": "db7b59cf",
   "metadata": {},
   "source": [
    "M(X) = -2\n",
    "\n",
    "D(X) = 16\n",
    "\n",
    "std(X) = 4"
   ]
  },
  {
   "cell_type": "markdown",
   "id": "87d88021",
   "metadata": {},
   "source": [
    "### Ex.4"
   ]
  },
  {
   "cell_type": "markdown",
   "id": "c0ade80e",
   "metadata": {},
   "source": [
    "Рост взрослого населения города X имеет нормальное распределение.\n",
    "Причем, средний рост равен 174 см, а среднее квадратичное отклонение равно 8 см.\n",
    "Какова вероятность того, что случайным образом выбранный взрослый человек имеет рост:\n",
    "\n",
    "а). больше 182 см\n",
    "\n",
    "б). больше 190 см\n",
    "\n",
    "в). от 166 см до 190 см\n",
    "\n",
    "г). от 166 см до 182 см\n",
    "\n",
    "д). от 158 см до 190 см\n",
    "\n",
    "е). не выше 150 см или не ниже 190 см\n",
    "\n",
    "ё). не выше 150 см или не ниже 198 см\n",
    "\n",
    "ж). ниже 166 см."
   ]
  },
  {
   "cell_type": "code",
   "execution_count": 8,
   "id": "405df355",
   "metadata": {},
   "outputs": [],
   "source": [
    "M4 = 174\n",
    "std = 8"
   ]
  },
  {
   "cell_type": "markdown",
   "id": "13a5f108",
   "metadata": {},
   "source": [
    "Решим по правилу трех сигм (%):"
   ]
  },
  {
   "cell_type": "code",
   "execution_count": 9,
   "id": "b02a0242",
   "metadata": {},
   "outputs": [],
   "source": [
    "sigma1 = 68\n",
    "sigma2 = 95.4\n",
    "sigma3 = 99.72"
   ]
  },
  {
   "cell_type": "markdown",
   "id": "5656bc9f",
   "metadata": {},
   "source": [
    "#### а)"
   ]
  },
  {
   "cell_type": "markdown",
   "id": "4fb89abd",
   "metadata": {},
   "source": [
    "Из 100% отнимем 1 сигму и поделим на 2"
   ]
  },
  {
   "cell_type": "code",
   "execution_count": 10,
   "id": "62db1b25",
   "metadata": {},
   "outputs": [
    {
     "data": {
      "text/plain": [
       "16.0"
      ]
     },
     "execution_count": 10,
     "metadata": {},
     "output_type": "execute_result"
    }
   ],
   "source": [
    "P4_1 = (100 - sigma1) / 2\n",
    "P4_1"
   ]
  },
  {
   "cell_type": "markdown",
   "id": "0e440101",
   "metadata": {},
   "source": [
    "#### б)"
   ]
  },
  {
   "cell_type": "markdown",
   "id": "ca1a90b4",
   "metadata": {},
   "source": [
    "Из 100% отнимем 2 сигму и поделим на 2"
   ]
  },
  {
   "cell_type": "code",
   "execution_count": 12,
   "id": "b408d8c0",
   "metadata": {},
   "outputs": [
    {
     "data": {
      "text/plain": [
       "2.299999999999997"
      ]
     },
     "execution_count": 12,
     "metadata": {},
     "output_type": "execute_result"
    }
   ],
   "source": [
    "P4_2 = (100 - sigma2) / 2\n",
    "P4_2"
   ]
  },
  {
   "cell_type": "markdown",
   "id": "65ffb6ac",
   "metadata": {},
   "source": [
    "#### в)"
   ]
  },
  {
   "cell_type": "markdown",
   "id": "3777bdec",
   "metadata": {},
   "source": [
    "Сумма 1 сигмы и разности 2 и 1 сигмы деленной на 2"
   ]
  },
  {
   "cell_type": "code",
   "execution_count": 13,
   "id": "fc4470b0",
   "metadata": {},
   "outputs": [
    {
     "data": {
      "text/plain": [
       "81.7"
      ]
     },
     "execution_count": 13,
     "metadata": {},
     "output_type": "execute_result"
    }
   ],
   "source": [
    "P4_3 = sigma1 + ((sigma2 - sigma1) / 2 )\n",
    "P4_3"
   ]
  },
  {
   "cell_type": "markdown",
   "id": "3162eacd",
   "metadata": {},
   "source": [
    "#### г)"
   ]
  },
  {
   "cell_type": "markdown",
   "id": "e99aac85",
   "metadata": {},
   "source": [
    "1 сигма"
   ]
  },
  {
   "cell_type": "code",
   "execution_count": 15,
   "id": "30b59c12",
   "metadata": {},
   "outputs": [
    {
     "data": {
      "text/plain": [
       "68"
      ]
     },
     "execution_count": 15,
     "metadata": {},
     "output_type": "execute_result"
    }
   ],
   "source": [
    "P4_4 = sigma1\n",
    "P4_4"
   ]
  },
  {
   "cell_type": "markdown",
   "id": "9ff15c91",
   "metadata": {},
   "source": [
    "#### д)"
   ]
  },
  {
   "cell_type": "code",
   "execution_count": 19,
   "id": "f34ce716",
   "metadata": {},
   "outputs": [
    {
     "data": {
      "text/plain": [
       "0.9543999999999999"
      ]
     },
     "execution_count": 19,
     "metadata": {},
     "output_type": "execute_result"
    }
   ],
   "source": [
    "P4_15 = 0.9772 - 0.0228\n",
    "P4_15"
   ]
  },
  {
   "cell_type": "markdown",
   "id": "cb0c0004",
   "metadata": {},
   "source": [
    "#### е)"
   ]
  },
  {
   "cell_type": "markdown",
   "id": "863b5c53",
   "metadata": {},
   "source": [
    "2 сигма"
   ]
  },
  {
   "cell_type": "code",
   "execution_count": 16,
   "id": "cda18d71",
   "metadata": {},
   "outputs": [
    {
     "data": {
      "text/plain": [
       "95.4"
      ]
     },
     "execution_count": 16,
     "metadata": {},
     "output_type": "execute_result"
    }
   ],
   "source": [
    "P4_5 = sigma2\n",
    "P4_5"
   ]
  },
  {
   "cell_type": "markdown",
   "id": "ff2986d3",
   "metadata": {},
   "source": [
    "#### ё)"
   ]
  },
  {
   "cell_type": "code",
   "execution_count": 17,
   "id": "e8cc15db",
   "metadata": {},
   "outputs": [
    {
     "data": {
      "text/plain": [
       "2.4399999999999977"
      ]
     },
     "execution_count": 17,
     "metadata": {},
     "output_type": "execute_result"
    }
   ],
   "source": [
    "P4_6 = (100 - sigma3) + ((sigma3 - sigma2) / 2)\n",
    "P4_6"
   ]
  },
  {
   "cell_type": "markdown",
   "id": "a519eb98",
   "metadata": {},
   "source": [
    "#### ж)"
   ]
  },
  {
   "cell_type": "code",
   "execution_count": 18,
   "id": "f19222f1",
   "metadata": {},
   "outputs": [
    {
     "data": {
      "text/plain": [
       "0.1587"
      ]
     },
     "execution_count": 18,
     "metadata": {},
     "output_type": "execute_result"
    }
   ],
   "source": [
    "P4_18 = 0.1587\n",
    "P4_18"
   ]
  },
  {
   "cell_type": "markdown",
   "id": "461519da",
   "metadata": {},
   "source": [
    "### Ex.5"
   ]
  },
  {
   "cell_type": "markdown",
   "id": "7a737249",
   "metadata": {},
   "source": [
    "На сколько сигм (средних квадратичных отклонений) отклоняется рост человека, равный 190 см, от\n",
    "математического ожидания роста в популяции, в которой M(X) = 178 см и D(X) = 25 кв.см?"
   ]
  },
  {
   "cell_type": "code",
   "execution_count": 20,
   "id": "0c070972",
   "metadata": {},
   "outputs": [
    {
     "data": {
      "text/plain": [
       "2.4"
      ]
     },
     "execution_count": 20,
     "metadata": {},
     "output_type": "execute_result"
    }
   ],
   "source": [
    "M5 = 178\n",
    "D5 = 25\n",
    "std5 = sqrt(D5)\n",
    "sigma5 = (190 - M5)/std5\n",
    "sigma5"
   ]
  },
  {
   "cell_type": "code",
   "execution_count": null,
   "id": "1d1eb76a",
   "metadata": {},
   "outputs": [],
   "source": []
  }
 ],
 "metadata": {
  "kernelspec": {
   "display_name": "Python 3 (ipykernel)",
   "language": "python",
   "name": "python3"
  },
  "language_info": {
   "codemirror_mode": {
    "name": "ipython",
    "version": 3
   },
   "file_extension": ".py",
   "mimetype": "text/x-python",
   "name": "python",
   "nbconvert_exporter": "python",
   "pygments_lexer": "ipython3",
   "version": "3.9.7"
  }
 },
 "nbformat": 4,
 "nbformat_minor": 5
}
