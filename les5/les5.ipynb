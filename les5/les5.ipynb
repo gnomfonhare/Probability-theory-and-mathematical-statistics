{
 "cells": [
  {
   "cell_type": "code",
   "execution_count": 1,
   "id": "3d35b880",
   "metadata": {},
   "outputs": [],
   "source": [
    "from math import sqrt\n",
    "import numpy"
   ]
  },
  {
   "cell_type": "markdown",
   "id": "df67c470",
   "metadata": {},
   "source": [
    "### Ex.1"
   ]
  },
  {
   "cell_type": "markdown",
   "id": "3d4a600d",
   "metadata": {},
   "source": [
    "Известно, что генеральная совокупность распределена нормально\n",
    "со средним квадратическим отклонением, равным 16.\n",
    "Найти доверительный интервал для оценки математического ожидания a с надежностью 0.95,\n",
    "если выборочная средняя M = 80, а объем выборки n = 256."
   ]
  },
  {
   "cell_type": "code",
   "execution_count": 2,
   "id": "fd8f6074",
   "metadata": {},
   "outputs": [
    {
     "data": {
      "text/plain": [
       "[78.04, 81.96]"
      ]
     },
     "execution_count": 2,
     "metadata": {},
     "output_type": "execute_result"
    }
   ],
   "source": [
    "sigma_1 = 16\n",
    "z_1 = 1.96\n",
    "M_1 = 80\n",
    "n_1 = 256\n",
    "interval_start_1 = M_1 - 1.96 * sigma_1/sqrt(n_1)\n",
    "interval_end_1 = M_1 + 1.96 * sigma_1/sqrt(n_1)\n",
    "interval_1 = [interval_start_1, interval_end_1]\n",
    "interval_1"
   ]
  },
  {
   "cell_type": "markdown",
   "id": "e7f6a255",
   "metadata": {},
   "source": [
    "### Ex.2"
   ]
  },
  {
   "cell_type": "markdown",
   "id": "75285858",
   "metadata": {},
   "source": [
    "В результате 10 независимых измерений некоторой величины X, выполненных с одинаковой точностью,\n",
    "получены опытные данные:\n",
    "6.9, 6.1, 6.2, 6.8, 7.5, 6.3, 6.4, 6.9, 6.7, 6.1\n",
    "Предполагая, что результаты измерений подчинены нормальному закону распределения вероятностей,\n",
    "оценить истинное значение величины X при помощи доверительного интервала, покрывающего это\n",
    "значение с доверительной вероятностью 0,95."
   ]
  },
  {
   "cell_type": "code",
   "execution_count": 3,
   "id": "3d1c55df",
   "metadata": {},
   "outputs": [
    {
     "data": {
      "text/plain": [
       "[6.267538255912426, 6.912461744087575]"
      ]
     },
     "execution_count": 3,
     "metadata": {},
     "output_type": "execute_result"
    }
   ],
   "source": [
    "x_2 = [6.9, 6.1, 6.2, 6.8, 7.5, 6.3, 6.4, 6.9, 6.7, 6.1]\n",
    "M_2 = numpy.mean(x_2)\n",
    "sigma_2 = numpy.std(x_2, ddof=1)\n",
    "t_2 = 2.262\n",
    "interval_start_2 = M_2 - t_2 * sigma_2/sqrt(len(x_2))\n",
    "interval_end_2 = M_2 + t_2 * sigma_2/sqrt(len(x_2))\n",
    "interval_2 = [interval_start_2, interval_end_2]\n",
    "interval_2"
   ]
  },
  {
   "cell_type": "markdown",
   "id": "a231b501",
   "metadata": {},
   "source": [
    "### Ex.3"
   ]
  },
  {
   "cell_type": "markdown",
   "id": "5241f0d1",
   "metadata": {},
   "source": [
    "Утверждается, что шарики для подшипников, изготовленные автоматическим станком, имеют средний диаметр 17 мм.\n",
    "Используя односторонний критерий с α=0,05, проверить эту гипотезу, если в выборке из n=100 шариков средний диаметр\n",
    "оказался равным 17.5 мм, а дисперсия известна и равна 4 мм."
   ]
  },
  {
   "cell_type": "code",
   "execution_count": 4,
   "id": "4446ce32",
   "metadata": {},
   "outputs": [
    {
     "data": {
      "text/plain": [
       "2.5"
      ]
     },
     "execution_count": 4,
     "metadata": {},
     "output_type": "execute_result"
    }
   ],
   "source": [
    "m0_3 = 17\n",
    "Xm_3 = 17.5\n",
    "D_3 = 4\n",
    "n_3 = 100\n",
    "Zk_3 = 1.645\n",
    "Zn_3 = (Xm_3 - m0_3) / (sqrt(D_3) / sqrt(n_3))\n",
    "Zn_3"
   ]
  },
  {
   "cell_type": "markdown",
   "id": "f8f3fec4",
   "metadata": {},
   "source": [
    "Так как Z наблюдаемое не попало в область гипотезы H0, следовательно H0 не верна на уровне значимости 5%."
   ]
  },
  {
   "cell_type": "markdown",
   "id": "44db8dd4",
   "metadata": {},
   "source": [
    "### Ex.4"
   ]
  },
  {
   "cell_type": "markdown",
   "id": "06cf1c4a",
   "metadata": {},
   "source": [
    "Продавец утверждает, что средний вес пачки печенья составляет 200 г.\n",
    "Из партии извлечена выборка из 10 пачек. Вес каждой пачки составляет:\n",
    "202, 203, 199, 197, 195, 201, 200, 204, 194, 190.\n",
    "Известно, что их веса распределены нормально.\n",
    "Верно ли утверждение продавца, если учитывать, что доверительная вероятность равна 99%?"
   ]
  },
  {
   "cell_type": "code",
   "execution_count": 5,
   "id": "6f24db95",
   "metadata": {},
   "outputs": [
    {
     "data": {
      "text/plain": [
       "-1.0651074037450896"
      ]
     },
     "execution_count": 5,
     "metadata": {},
     "output_type": "execute_result"
    }
   ],
   "source": [
    "m0_4 = 200\n",
    "x_4 = [202, 203, 199, 197, 195, 201, 200, 204, 194, 190]\n",
    "sigma_4 = numpy.std(x_4, ddof=1)\n",
    "Xm_4 = numpy.mean(x_4)\n",
    "n_4 = len(x_4)\n",
    "tk_4_1 = 3.250\n",
    "tk_4_2 = -3.250\n",
    "Zn_4 = (Xm_4 - m0_4) / (sigma_4 / sqrt(n_4))\n",
    "Zn_4"
   ]
  },
  {
   "cell_type": "markdown",
   "id": "4028c256",
   "metadata": {},
   "source": [
    "Так как Z наблюдаемое попало в область гипотезы H0, следовательно H0 верна на уровне значимости 1%."
   ]
  },
  {
   "cell_type": "code",
   "execution_count": null,
   "id": "36c95171",
   "metadata": {},
   "outputs": [],
   "source": []
  }
 ],
 "metadata": {
  "kernelspec": {
   "display_name": "Python 3 (ipykernel)",
   "language": "python",
   "name": "python3"
  },
  "language_info": {
   "codemirror_mode": {
    "name": "ipython",
    "version": 3
   },
   "file_extension": ".py",
   "mimetype": "text/x-python",
   "name": "python",
   "nbconvert_exporter": "python",
   "pygments_lexer": "ipython3",
   "version": "3.9.7"
  }
 },
 "nbformat": 4,
 "nbformat_minor": 5
}
