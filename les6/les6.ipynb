{
 "cells": [
  {
   "cell_type": "markdown",
   "id": "dc4dd630",
   "metadata": {},
   "source": [
    "### Ex.1"
   ]
  },
  {
   "cell_type": "markdown",
   "id": "7fec0c81",
   "metadata": {},
   "source": [
    "Даны значения величины заработной платы заемщиков банка (zp) и значения их поведенческого кредитного скоринга (ks):\n",
    "zp = [35, 45, 190, 200, 40, 70, 54, 150, 120, 110],\n",
    "ks = [401, 574, 874, 919, 459, 739, 653, 902, 746, 832].\n",
    "Найдите ковариацию этих двух величин с помощью элементарных действий, а затем с помощью функции cov из numpy\n",
    "Полученные значения должны быть равны.\n",
    "Найдите коэффициент корреляции Пирсона с помощью ковариации и среднеквадратичных отклонений двух признаков,\n",
    "а затем с использованием функций из библиотек numpy и pandas."
   ]
  },
  {
   "cell_type": "code",
   "execution_count": 1,
   "id": "b02ac748",
   "metadata": {},
   "outputs": [
    {
     "data": {
      "text/plain": [
       "9157.839999999997"
      ]
     },
     "execution_count": 1,
     "metadata": {},
     "output_type": "execute_result"
    }
   ],
   "source": [
    "from math import sqrt\n",
    "\n",
    "import numpy as np\n",
    "import pandas as pd\n",
    "import scipy.stats as stats\n",
    "\n",
    "zp = np.array([35, 45, 190, 200, 40, 70, 54, 150, 120, 110])\n",
    "ks = np.array([401, 574, 874, 919, 459, 739, 653, 902, 746, 832])\n",
    "\n",
    "cov_manual = np.mean(zp*ks) - (np.mean(zp) * np.mean(ks))\n",
    "cov_manual"
   ]
  },
  {
   "cell_type": "code",
   "execution_count": 2,
   "id": "ef602b75",
   "metadata": {},
   "outputs": [
    {
     "data": {
      "text/plain": [
       "array([[ 3494.64,  9157.84],\n",
       "       [ 9157.84, 30468.89]])"
      ]
     },
     "execution_count": 2,
     "metadata": {},
     "output_type": "execute_result"
    }
   ],
   "source": [
    "cov_auto = np.cov(zp, ks, ddof=0)\n",
    "cov_auto"
   ]
  },
  {
   "cell_type": "code",
   "execution_count": 3,
   "id": "bee9eeee",
   "metadata": {},
   "outputs": [
    {
     "data": {
      "text/plain": [
       "0.8874900920739158"
      ]
     },
     "execution_count": 3,
     "metadata": {},
     "output_type": "execute_result"
    }
   ],
   "source": [
    "pearson_manual = cov_manual/(np.std(zp) * np.std(ks))\n",
    "pearson_manual"
   ]
  },
  {
   "cell_type": "code",
   "execution_count": 4,
   "id": "41533a87",
   "metadata": {},
   "outputs": [
    {
     "data": {
      "text/plain": [
       "array([[1.        , 0.88749009],\n",
       "       [0.88749009, 1.        ]])"
      ]
     },
     "execution_count": 4,
     "metadata": {},
     "output_type": "execute_result"
    }
   ],
   "source": [
    "pearson_numpy = np.corrcoef(zp, ks)\n",
    "pearson_numpy"
   ]
  },
  {
   "cell_type": "code",
   "execution_count": 5,
   "id": "27e026a7",
   "metadata": {},
   "outputs": [
    {
     "data": {
      "text/plain": [
       "0.8874900920739163"
      ]
     },
     "execution_count": 5,
     "metadata": {},
     "output_type": "execute_result"
    }
   ],
   "source": [
    "zp1 = pd.Series([35, 45, 190, 200, 40, 70, 54, 150, 120, 110])\n",
    "ks1 = pd.Series([401, 574, 874, 919, 459, 739, 653, 902, 746, 832])\n",
    "pearson_pandas = zp1.corr(ks1, method=\"pearson\")\n",
    "pearson_pandas"
   ]
  },
  {
   "cell_type": "markdown",
   "id": "ab945e0c",
   "metadata": {},
   "source": [
    "### Ex.2"
   ]
  },
  {
   "cell_type": "markdown",
   "id": "3cc494aa",
   "metadata": {},
   "source": [
    "Измерены значения IQ выборки студентов,\n",
    "обучающихся в местных технических вузах:\n",
    "131, 125, 115, 122, 131, 115, 107, 99, 125, 111.\n",
    "Известно, что в генеральной совокупности IQ распределен нормально.\n",
    "Найдите доверительный интервал для математического ожидания с надежностью 0.95."
   ]
  },
  {
   "cell_type": "code",
   "execution_count": 6,
   "id": "e5677af2",
   "metadata": {},
   "outputs": [],
   "source": [
    "iq = [131, 125, 115, 122, 131, 115, 107, 99, 125, 111]\n",
    "M_2 = np.mean(iq)\n",
    "sigma_2 = np.std(iq, ddof=1)"
   ]
  },
  {
   "cell_type": "markdown",
   "id": "0383f8fd",
   "metadata": {},
   "source": [
    "Критерий Стьюдента и доверительный интервал:"
   ]
  },
  {
   "cell_type": "code",
   "execution_count": 7,
   "id": "df9f86e1",
   "metadata": {},
   "outputs": [
    {
     "data": {
      "text/plain": [
       "[110.55608365158724, 125.64391634841274]"
      ]
     },
     "execution_count": 7,
     "metadata": {},
     "output_type": "execute_result"
    }
   ],
   "source": [
    "t_2 = abs(stats.t.ppf((1 - 0.95)/2, len(iq) - 1))\n",
    "interval_start_2 = M_2 - t_2 * sigma_2/sqrt(len(iq))\n",
    "interval_end_2 = M_2 + t_2 * sigma_2/sqrt(len(iq))\n",
    "interval_2 = [interval_start_2, interval_end_2]\n",
    "interval_2"
   ]
  },
  {
   "cell_type": "markdown",
   "id": "e590f3d9",
   "metadata": {},
   "source": [
    "### Ex.3"
   ]
  },
  {
   "cell_type": "markdown",
   "id": "044383b4",
   "metadata": {},
   "source": [
    "Известно, что рост футболистов в сборной распределен нормально\n",
    "с дисперсией генеральной совокупности, равной 25 кв.см. Объем выборки равен 27,\n",
    "среднее выборочное составляет 174.2. Найдите доверительный интервал для математического\n",
    "ожидания с надежностью 0.95."
   ]
  },
  {
   "cell_type": "code",
   "execution_count": 8,
   "id": "83241e17",
   "metadata": {},
   "outputs": [],
   "source": [
    "D_3 = 25\n",
    "sigma_3 = sqrt(D_3)\n",
    "n_3 = 27\n",
    "M_3 = 174.2"
   ]
  },
  {
   "cell_type": "markdown",
   "id": "07e77912",
   "metadata": {},
   "source": [
    "Используем z-критерий:"
   ]
  },
  {
   "cell_type": "code",
   "execution_count": 9,
   "id": "cba7a896",
   "metadata": {},
   "outputs": [
    {
     "data": {
      "text/plain": [
       "[172.31398912064722, 176.08601087935276]"
      ]
     },
     "execution_count": 9,
     "metadata": {},
     "output_type": "execute_result"
    }
   ],
   "source": [
    "alpha_over2 = 0.05/2\n",
    "t_2 = 1.96\n",
    "interval_start_3 = M_3 - t_2 * sigma_3/sqrt(n_3)\n",
    "interval_end_3 = M_3 + t_2 * sigma_3/sqrt(n_3)\n",
    "interval_3 = [interval_start_3, interval_end_3]\n",
    "interval_3"
   ]
  },
  {
   "cell_type": "code",
   "execution_count": null,
   "id": "7a3fba7c",
   "metadata": {},
   "outputs": [],
   "source": []
  }
 ],
 "metadata": {
  "kernelspec": {
   "display_name": "Python 3 (ipykernel)",
   "language": "python",
   "name": "python3"
  },
  "language_info": {
   "codemirror_mode": {
    "name": "ipython",
    "version": 3
   },
   "file_extension": ".py",
   "mimetype": "text/x-python",
   "name": "python",
   "nbconvert_exporter": "python",
   "pygments_lexer": "ipython3",
   "version": "3.9.7"
  }
 },
 "nbformat": 4,
 "nbformat_minor": 5
}
