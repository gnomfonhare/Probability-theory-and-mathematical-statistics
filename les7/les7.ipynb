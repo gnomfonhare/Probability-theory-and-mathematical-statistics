{
 "cells": [
  {
   "cell_type": "markdown",
   "id": "6665337a",
   "metadata": {},
   "source": [
    "### Ex.1"
   ]
  },
  {
   "cell_type": "markdown",
   "id": "68871306",
   "metadata": {},
   "source": [
    "Даны значения величины заработной платы заемщиков банка (zp) и значения их поведенческого кредитного скоринга (ks): zp = [35, 45, 190, 200, 40, 70, 54, 150, 120, 110], ks = [401, 574, 874, 919, 459, 739, 653, 902, 746, 832]. Используя математические операции, посчитать коэффициенты линейной регрессии, приняв за X заработную плату (то есть, zp - признак), а за y - значения скорингового балла (то есть, ks - целевая переменная). Произвести расчет как с использованием intercept, так и без."
   ]
  },
  {
   "cell_type": "code",
   "execution_count": 1,
   "id": "dc84d93d",
   "metadata": {},
   "outputs": [],
   "source": [
    "import numpy as np\n",
    "\n",
    "n = 10\n",
    "x = np.array([35, 45, 190, 200, 40, 70, 54, 150, 120, 110])\n",
    "y = np.array([401, 574, 874, 919, 459, 739, 653, 902, 746, 832])"
   ]
  },
  {
   "cell_type": "markdown",
   "id": "d9658829",
   "metadata": {},
   "source": [
    "##### Расчет с использованием intercept:"
   ]
  },
  {
   "cell_type": "code",
   "execution_count": 2,
   "id": "c3902d03",
   "metadata": {},
   "outputs": [
    {
     "data": {
      "text/plain": [
       "2.620538882402765"
      ]
     },
     "execution_count": 2,
     "metadata": {},
     "output_type": "execute_result"
    }
   ],
   "source": [
    "B1_1 = (np.mean(x * y) - (np.mean(x) * np.mean(y))) / (np.mean(x**2) - np.mean(x) ** 2)\n",
    "B1_1"
   ]
  },
  {
   "cell_type": "code",
   "execution_count": 3,
   "id": "7aa98c66",
   "metadata": {},
   "outputs": [
    {
     "data": {
      "text/plain": [
       "444.1773573243596"
      ]
     },
     "execution_count": 3,
     "metadata": {},
     "output_type": "execute_result"
    }
   ],
   "source": [
    "A1 = np.mean(y) - B1_1 * np.mean(x)\n",
    "A1"
   ]
  },
  {
   "cell_type": "markdown",
   "id": "37044488",
   "metadata": {},
   "source": [
    "Расчет с использованием матричного метода:"
   ]
  },
  {
   "cell_type": "code",
   "execution_count": 4,
   "id": "034ff868",
   "metadata": {},
   "outputs": [],
   "source": [
    "x1 = x.reshape(len(x), 1)\n",
    "y1 = y.reshape(len(y), 1)\n",
    "X1 = np.hstack([np.ones((10,1)), x1])"
   ]
  },
  {
   "cell_type": "code",
   "execution_count": 5,
   "id": "42e0e0c2",
   "metadata": {},
   "outputs": [
    {
     "data": {
      "text/plain": [
       "array([[444.17735732],\n",
       "       [  2.62053888]])"
      ]
     },
     "execution_count": 5,
     "metadata": {},
     "output_type": "execute_result"
    }
   ],
   "source": [
    "B1_1_1 = np.dot(np.linalg.inv(np.dot(X1.T,X1)),X1.T@y1)\n",
    "B1_1_1"
   ]
  },
  {
   "cell_type": "code",
   "execution_count": 6,
   "id": "4165fe7e",
   "metadata": {},
   "outputs": [
    {
     "data": {
      "text/plain": [
       "array([[444.17735732],\n",
       "       [  2.62053888]])"
      ]
     },
     "execution_count": 6,
     "metadata": {},
     "output_type": "execute_result"
    }
   ],
   "source": [
    "B1_1_2 = np.linalg.pinv(X1).dot(y1)\n",
    "B1_1_2"
   ]
  },
  {
   "cell_type": "code",
   "execution_count": 7,
   "id": "98f8f39c",
   "metadata": {},
   "outputs": [
    {
     "data": {
      "text/plain": [
       "array([535.89621821, 562.10160703, 942.07974498, 968.2851338 ,\n",
       "       548.99891262, 627.61507909, 585.68645697, 837.25818968,\n",
       "       758.64202321, 732.43663439])"
      ]
     },
     "execution_count": 7,
     "metadata": {},
     "output_type": "execute_result"
    }
   ],
   "source": [
    "y_hat1 = A1 + (B1_1 * x)\n",
    "y_hat1"
   ]
  },
  {
   "cell_type": "code",
   "execution_count": 8,
   "id": "7403a79f",
   "metadata": {},
   "outputs": [
    {
     "data": {
      "text/plain": [
       "6470.414201176658"
      ]
     },
     "execution_count": 8,
     "metadata": {},
     "output_type": "execute_result"
    }
   ],
   "source": [
    "mse1 = np.mean((y - y_hat1) ** 2)\n",
    "mse1"
   ]
  },
  {
   "cell_type": "markdown",
   "id": "4ab7173a",
   "metadata": {},
   "source": [
    "##### Расчет без использования intercept:"
   ]
  },
  {
   "cell_type": "code",
   "execution_count": 9,
   "id": "f3f538f0",
   "metadata": {},
   "outputs": [
    {
     "data": {
      "text/plain": [
       "7.000986193293885"
      ]
     },
     "execution_count": 9,
     "metadata": {},
     "output_type": "execute_result"
    }
   ],
   "source": [
    "B1_2 = np.mean(y) / np.mean(x)\n",
    "B1_2"
   ]
  },
  {
   "cell_type": "code",
   "execution_count": 10,
   "id": "35de1e20",
   "metadata": {},
   "outputs": [
    {
     "data": {
      "text/plain": [
       "array([ 245.03451677,  315.0443787 , 1330.18737673, 1400.19723866,\n",
       "        280.03944773,  490.06903353,  378.05325444, 1050.14792899,\n",
       "        840.1183432 ,  770.10848126])"
      ]
     },
     "execution_count": 10,
     "metadata": {},
     "output_type": "execute_result"
    }
   ],
   "source": [
    "y_hat2 = B1_2 * x\n",
    "y_hat2"
   ]
  },
  {
   "cell_type": "markdown",
   "id": "881a99b1",
   "metadata": {},
   "source": [
    "Расчет с использованием матричного метода:"
   ]
  },
  {
   "cell_type": "code",
   "execution_count": 11,
   "id": "d328e255",
   "metadata": {},
   "outputs": [
    {
     "data": {
      "text/plain": [
       "array([[5.88982042]])"
      ]
     },
     "execution_count": 11,
     "metadata": {},
     "output_type": "execute_result"
    }
   ],
   "source": [
    "x2 = x.reshape(len(x), 1)\n",
    "y2 = y.reshape(len(y), 1)\n",
    "B1_2_1 = np.dot(np.linalg.inv(np.dot(x2.T,x2)),x2.T@y2)\n",
    "B1_2_1"
   ]
  },
  {
   "cell_type": "code",
   "execution_count": 12,
   "id": "cbc4d88a",
   "metadata": {},
   "outputs": [
    {
     "data": {
      "text/plain": [
       "array([[5.88982042]])"
      ]
     },
     "execution_count": 12,
     "metadata": {},
     "output_type": "execute_result"
    }
   ],
   "source": [
    "B1_2_2 = np.linalg.pinv(x2).dot(y2)\n",
    "B1_2_2"
   ]
  },
  {
   "cell_type": "code",
   "execution_count": 13,
   "id": "9dd588ce",
   "metadata": {},
   "outputs": [
    {
     "data": {
      "text/plain": [
       "73526.6800654739"
      ]
     },
     "execution_count": 13,
     "metadata": {},
     "output_type": "execute_result"
    }
   ],
   "source": [
    "mse2 = np.mean((y - y_hat2) ** 2)\n",
    "mse2"
   ]
  },
  {
   "cell_type": "code",
   "execution_count": 14,
   "id": "e8f80dba",
   "metadata": {},
   "outputs": [
    {
     "data": {
      "text/html": [
       "<div>\n",
       "<style scoped>\n",
       "    .dataframe tbody tr th:only-of-type {\n",
       "        vertical-align: middle;\n",
       "    }\n",
       "\n",
       "    .dataframe tbody tr th {\n",
       "        vertical-align: top;\n",
       "    }\n",
       "\n",
       "    .dataframe thead th {\n",
       "        text-align: right;\n",
       "    }\n",
       "</style>\n",
       "<table border=\"1\" class=\"dataframe\">\n",
       "  <thead>\n",
       "    <tr style=\"text-align: right;\">\n",
       "      <th></th>\n",
       "      <th>x</th>\n",
       "      <th>y</th>\n",
       "      <th>y_hat1</th>\n",
       "      <th>y_hat2</th>\n",
       "    </tr>\n",
       "  </thead>\n",
       "  <tbody>\n",
       "    <tr>\n",
       "      <th>0</th>\n",
       "      <td>35</td>\n",
       "      <td>401</td>\n",
       "      <td>535.896218</td>\n",
       "      <td>245.034517</td>\n",
       "    </tr>\n",
       "    <tr>\n",
       "      <th>1</th>\n",
       "      <td>45</td>\n",
       "      <td>574</td>\n",
       "      <td>562.101607</td>\n",
       "      <td>315.044379</td>\n",
       "    </tr>\n",
       "    <tr>\n",
       "      <th>2</th>\n",
       "      <td>190</td>\n",
       "      <td>874</td>\n",
       "      <td>942.079745</td>\n",
       "      <td>1330.187377</td>\n",
       "    </tr>\n",
       "    <tr>\n",
       "      <th>3</th>\n",
       "      <td>200</td>\n",
       "      <td>919</td>\n",
       "      <td>968.285134</td>\n",
       "      <td>1400.197239</td>\n",
       "    </tr>\n",
       "    <tr>\n",
       "      <th>4</th>\n",
       "      <td>40</td>\n",
       "      <td>459</td>\n",
       "      <td>548.998913</td>\n",
       "      <td>280.039448</td>\n",
       "    </tr>\n",
       "    <tr>\n",
       "      <th>5</th>\n",
       "      <td>70</td>\n",
       "      <td>739</td>\n",
       "      <td>627.615079</td>\n",
       "      <td>490.069034</td>\n",
       "    </tr>\n",
       "    <tr>\n",
       "      <th>6</th>\n",
       "      <td>54</td>\n",
       "      <td>653</td>\n",
       "      <td>585.686457</td>\n",
       "      <td>378.053254</td>\n",
       "    </tr>\n",
       "    <tr>\n",
       "      <th>7</th>\n",
       "      <td>150</td>\n",
       "      <td>902</td>\n",
       "      <td>837.258190</td>\n",
       "      <td>1050.147929</td>\n",
       "    </tr>\n",
       "    <tr>\n",
       "      <th>8</th>\n",
       "      <td>120</td>\n",
       "      <td>746</td>\n",
       "      <td>758.642023</td>\n",
       "      <td>840.118343</td>\n",
       "    </tr>\n",
       "    <tr>\n",
       "      <th>9</th>\n",
       "      <td>110</td>\n",
       "      <td>832</td>\n",
       "      <td>732.436634</td>\n",
       "      <td>770.108481</td>\n",
       "    </tr>\n",
       "  </tbody>\n",
       "</table>\n",
       "</div>"
      ],
      "text/plain": [
       "     x    y      y_hat1       y_hat2\n",
       "0   35  401  535.896218   245.034517\n",
       "1   45  574  562.101607   315.044379\n",
       "2  190  874  942.079745  1330.187377\n",
       "3  200  919  968.285134  1400.197239\n",
       "4   40  459  548.998913   280.039448\n",
       "5   70  739  627.615079   490.069034\n",
       "6   54  653  585.686457   378.053254\n",
       "7  150  902  837.258190  1050.147929\n",
       "8  120  746  758.642023   840.118343\n",
       "9  110  832  732.436634   770.108481"
      ]
     },
     "execution_count": 14,
     "metadata": {},
     "output_type": "execute_result"
    }
   ],
   "source": [
    "import pandas as pd\n",
    "\n",
    "df = pd.DataFrame({'x': x, 'y': y, 'y_hat1': y_hat1, 'y_hat2': y_hat2}, columns=['x', 'y', 'y_hat1', 'y_hat2'])\n",
    "df"
   ]
  },
  {
   "cell_type": "markdown",
   "id": "25c18250",
   "metadata": {},
   "source": [
    "### Ex.2"
   ]
  },
  {
   "cell_type": "markdown",
   "id": "a36f4637",
   "metadata": {},
   "source": [
    "В каких случаях для вычисления доверительных интервалов и проверки статистических гипотез используется таблица значений функции Лапласа, а в каких - таблица критических точек распределения Стьюдента?"
   ]
  },
  {
   "cell_type": "markdown",
   "id": "0fe82865",
   "metadata": {},
   "source": [
    "При неизвестной сигме/дисперсии генеральной совокупности используется критерий Стьюдента (таблица критических точек распределения Стьюдента)."
   ]
  },
  {
   "cell_type": "markdown",
   "id": "ce31d912",
   "metadata": {},
   "source": [
    "Если сигма/дисперсия генеральной совокупности известна, используется Z-критерий (таблица значений функции Лапласа)."
   ]
  },
  {
   "cell_type": "code",
   "execution_count": null,
   "id": "b25813a0",
   "metadata": {},
   "outputs": [],
   "source": []
  }
 ],
 "metadata": {
  "kernelspec": {
   "display_name": "Python 3 (ipykernel)",
   "language": "python",
   "name": "python3"
  },
  "language_info": {
   "codemirror_mode": {
    "name": "ipython",
    "version": 3
   },
   "file_extension": ".py",
   "mimetype": "text/x-python",
   "name": "python",
   "nbconvert_exporter": "python",
   "pygments_lexer": "ipython3",
   "version": "3.9.7"
  }
 },
 "nbformat": 4,
 "nbformat_minor": 5
}
