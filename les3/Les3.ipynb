{
 "cells": [
  {
   "cell_type": "code",
   "execution_count": 1,
   "id": "cc10bb9b",
   "metadata": {},
   "outputs": [],
   "source": [
    "from math import sqrt"
   ]
  },
  {
   "cell_type": "markdown",
   "id": "d2d83325",
   "metadata": {},
   "source": [
    "### Ex.1"
   ]
  },
  {
   "cell_type": "markdown",
   "id": "bbbc3625",
   "metadata": {},
   "source": [
    "Даны значения зарплат из выборки выпускников: 100, 80, 75, 77, 89, 33, 45, 25, 65, 17, 30, 24, 57, 55, 70, 75, 65, 84, 90, 150. Посчитать (желательно без использования статистических методов наподобие std, var, mean) среднее арифметическое, среднее квадратичное отклонение, смещенную и несмещенную оценки дисперсий для данной выборки."
   ]
  },
  {
   "cell_type": "markdown",
   "id": "77b3d030",
   "metadata": {},
   "source": [
    "#### Среднее арифметическое"
   ]
  },
  {
   "cell_type": "code",
   "execution_count": 2,
   "id": "e546e533",
   "metadata": {},
   "outputs": [
    {
     "data": {
      "text/plain": [
       "65.3"
      ]
     },
     "execution_count": 2,
     "metadata": {},
     "output_type": "execute_result"
    }
   ],
   "source": [
    "array = [100, 80, 75, 77, 89, 33, 45, 25, 65, 17, 30, 24, 57, 55, 70, 75, 65, 84, 90, 150]\n",
    "n = len(array)\n",
    "array_sum = 0\n",
    "for number in array:\n",
    "    array_sum = array_sum + number\n",
    "x_sr = array_sum/n\n",
    "x_sr"
   ]
  },
  {
   "cell_type": "markdown",
   "id": "9fe6ce12",
   "metadata": {},
   "source": [
    "#### Среднее квадратичное отклонение"
   ]
  },
  {
   "cell_type": "code",
   "execution_count": 3,
   "id": "2be12642",
   "metadata": {},
   "outputs": [
    {
     "data": {
      "text/plain": [
       "30.823854398825596"
      ]
     },
     "execution_count": 3,
     "metadata": {},
     "output_type": "execute_result"
    }
   ],
   "source": [
    "s2_sum = 0\n",
    "for number in array:\n",
    "    s2_sum = s2_sum + ((number - x_sr) ** 2)\n",
    "s2 = sqrt(s2_sum/n)\n",
    "s2"
   ]
  },
  {
   "cell_type": "markdown",
   "id": "6b85015c",
   "metadata": {},
   "source": [
    "#### Смещенная и несмещенная оценки дисперсий для данной выборки"
   ]
  },
  {
   "cell_type": "code",
   "execution_count": 5,
   "id": "f26df7df",
   "metadata": {},
   "outputs": [
    {
     "data": {
      "text/plain": [
       "30.823854398825596"
      ]
     },
     "execution_count": 5,
     "metadata": {},
     "output_type": "execute_result"
    }
   ],
   "source": [
    "std_s = sqrt(s2_sum/n)\n",
    "std_s"
   ]
  },
  {
   "cell_type": "code",
   "execution_count": 6,
   "id": "6cb9e392",
   "metadata": {},
   "outputs": [
    {
     "data": {
      "text/plain": [
       "31.624607341019814"
      ]
     },
     "execution_count": 6,
     "metadata": {},
     "output_type": "execute_result"
    }
   ],
   "source": [
    "std_ns = sqrt(s2_sum/(n-1))\n",
    "std_ns"
   ]
  },
  {
   "cell_type": "markdown",
   "id": "9757844a",
   "metadata": {},
   "source": [
    "### Ex.2"
   ]
  },
  {
   "cell_type": "markdown",
   "id": "a1b3874b",
   "metadata": {},
   "source": [
    "В первом ящике находится 8 мячей, из которых 5 - белые. Во втором ящике - 12 мячей, из которых 5 белых. Из первого ящика вытаскивают случайным образом два мяча, из второго - 4. Какова вероятность того, что 3 мяча белые?"
   ]
  },
  {
   "cell_type": "code",
   "execution_count": 7,
   "id": "84367daf",
   "metadata": {},
   "outputs": [
    {
     "data": {
      "text/plain": [
       "0.055239898989898985"
      ]
     },
     "execution_count": 7,
     "metadata": {},
     "output_type": "execute_result"
    }
   ],
   "source": [
    "p2_1 = 5/8 * 4/7 * 5/12 * 7/11 * 6/10 * 5/9\n",
    "p2_2 = 5/8 * 3/7 * 5/12 * 4/11 * 7/10 * 6/9\n",
    "p2_3 = 3/8 * 2/7 * 5/12 * 4/11 * 3/10 * 7/9\n",
    "p2_4 = 3/8 * 2/8 * 5/12 * 4/11 * 3/10 * 2/9\n",
    "P2 = p2_1 + p2_2 + p2_3 + p2_4\n",
    "P2"
   ]
  },
  {
   "cell_type": "markdown",
   "id": "9d54477d",
   "metadata": {},
   "source": [
    "### Ex.3"
   ]
  },
  {
   "cell_type": "markdown",
   "id": "3b298605",
   "metadata": {},
   "source": [
    "На соревновании по биатлону один из трех спортсменов стреляет и попадает в мишень. Вероятность попадания для первого спортсмена равна 0.9, для второго — 0.8, для третьего — 0.6. Найти вероятность того, что выстрел произведен: a). первым спортсменом б). вторым спортсменом в). третьим спортсменом."
   ]
  },
  {
   "cell_type": "code",
   "execution_count": 8,
   "id": "5cb8dd20",
   "metadata": {},
   "outputs": [],
   "source": [
    "z3_p1 = 0.9\n",
    "z3_p2 = 0.8\n",
    "z3_p3 = 0.6\n",
    "z3_B1 = 1/3\n",
    "z3_B2 = 1/3\n",
    "z3_B3 = 1/3"
   ]
  },
  {
   "cell_type": "markdown",
   "id": "f702d84b",
   "metadata": {},
   "source": [
    "Вероятность попадания в мишень:"
   ]
  },
  {
   "cell_type": "code",
   "execution_count": 9,
   "id": "3eb7f931",
   "metadata": {},
   "outputs": [
    {
     "data": {
      "text/plain": [
       "0.7666666666666666"
      ]
     },
     "execution_count": 9,
     "metadata": {},
     "output_type": "execute_result"
    }
   ],
   "source": [
    "z3_PA = z3_B1 * z3_p1 + z3_B2 * z3_p2 + z3_B3 * z3_p3\n",
    "z3_PA"
   ]
  },
  {
   "cell_type": "markdown",
   "id": "c35d689f",
   "metadata": {},
   "source": [
    "Полная вероятность попадания по формуле Байеса для каждого из трёх спортсменов:"
   ]
  },
  {
   "cell_type": "code",
   "execution_count": 10,
   "id": "a10a03e1",
   "metadata": {},
   "outputs": [
    {
     "data": {
      "text/plain": [
       "0.391304347826087"
      ]
     },
     "execution_count": 10,
     "metadata": {},
     "output_type": "execute_result"
    }
   ],
   "source": [
    "z3_PB1A = (z3_B1 * z3_p1)/z3_PA\n",
    "z3_PB1A"
   ]
  },
  {
   "cell_type": "code",
   "execution_count": 11,
   "id": "ae53a806",
   "metadata": {},
   "outputs": [
    {
     "data": {
      "text/plain": [
       "0.3478260869565218"
      ]
     },
     "execution_count": 11,
     "metadata": {},
     "output_type": "execute_result"
    }
   ],
   "source": [
    "z3_PB2A = (z3_B2 * z3_p2)/z3_PA\n",
    "z3_PB2A"
   ]
  },
  {
   "cell_type": "code",
   "execution_count": 12,
   "id": "bb0fc12b",
   "metadata": {},
   "outputs": [
    {
     "data": {
      "text/plain": [
       "0.2608695652173913"
      ]
     },
     "execution_count": 12,
     "metadata": {},
     "output_type": "execute_result"
    }
   ],
   "source": [
    "z3_PB3A = (z3_B3 * z3_p3)/z3_PA\n",
    "z3_PB3A"
   ]
  },
  {
   "cell_type": "markdown",
   "id": "cb499e93",
   "metadata": {},
   "source": [
    "### Ex.4"
   ]
  },
  {
   "cell_type": "markdown",
   "id": "d3cc8e91",
   "metadata": {},
   "source": [
    "В университет на факультеты A и B поступило равное количество студентов, а на факультет C студентов поступило столько же, сколько на A и B вместе. Вероятность того, что студент факультета A сдаст первую сессию, равна 0.8. Для студента факультета B эта вероятность равна 0.7, а для студента факультета C - 0.9. Студент сдал первую сессию. Какова вероятность, что он учится: a). на факультете A б). на факультете B в). на факультете C?"
   ]
  },
  {
   "cell_type": "code",
   "execution_count": 14,
   "id": "d2e1e24f",
   "metadata": {},
   "outputs": [],
   "source": [
    "z4_p1 = 0.8\n",
    "z4_p2 = 0.7\n",
    "z4_p3 = 0.9\n",
    "z4_B1 = 1/4\n",
    "z4_B2 = 1/4\n",
    "z4_B3 = 2/4"
   ]
  },
  {
   "cell_type": "markdown",
   "id": "beb7871f",
   "metadata": {},
   "source": [
    "Вероятность сдачи экзамена:"
   ]
  },
  {
   "cell_type": "code",
   "execution_count": 15,
   "id": "629bb08f",
   "metadata": {},
   "outputs": [],
   "source": [
    "z4_PA = z4_B1 * z4_p1 + z4_B2 * z4_p2 + z4_B3 * z4_p3"
   ]
  },
  {
   "cell_type": "markdown",
   "id": "8fb6e883",
   "metadata": {},
   "source": [
    "Полная вероятность сдачи экзамена по формуле Байеса для каждого из студентов с разных факультетов:"
   ]
  },
  {
   "cell_type": "code",
   "execution_count": 16,
   "id": "1ff34602",
   "metadata": {},
   "outputs": [
    {
     "data": {
      "text/plain": [
       "0.24242424242424246"
      ]
     },
     "execution_count": 16,
     "metadata": {},
     "output_type": "execute_result"
    }
   ],
   "source": [
    "z4_PB1A = (z4_B1 * z4_p1)/z4_PA\n",
    "z4_PB1A"
   ]
  },
  {
   "cell_type": "code",
   "execution_count": 17,
   "id": "acfe67a6",
   "metadata": {},
   "outputs": [
    {
     "data": {
      "text/plain": [
       "0.21212121212121213"
      ]
     },
     "execution_count": 17,
     "metadata": {},
     "output_type": "execute_result"
    }
   ],
   "source": [
    "z4_PB2A = (z4_B2 * z4_p2)/z4_PA\n",
    "z4_PB2A"
   ]
  },
  {
   "cell_type": "code",
   "execution_count": 18,
   "id": "f2c121eb",
   "metadata": {},
   "outputs": [
    {
     "data": {
      "text/plain": [
       "0.5454545454545455"
      ]
     },
     "execution_count": 18,
     "metadata": {},
     "output_type": "execute_result"
    }
   ],
   "source": [
    "z4_PB3A = (z4_B3 * z4_p3)/z4_PA\n",
    "z4_PB3A"
   ]
  },
  {
   "cell_type": "markdown",
   "id": "8bbefc1a",
   "metadata": {},
   "source": [
    "### Ex.5"
   ]
  },
  {
   "cell_type": "markdown",
   "id": "80981c84",
   "metadata": {},
   "source": [
    "Устройство состоит из трех деталей. Для первой детали вероятность выйти из строя в первый месяц равна 0.1, для второй - 0.2, для третьей - 0.25. Какова вероятность того, что в первый месяц выйдут из строя: а). все детали б). только две детали в). хотя бы одна деталь г). от одной до двух деталей?"
   ]
  },
  {
   "cell_type": "code",
   "execution_count": 19,
   "id": "4c4e0d39",
   "metadata": {},
   "outputs": [],
   "source": [
    "z5_p1 = 0.1\n",
    "z5_p2 = 0.2\n",
    "z5_p3 = 0.25\n",
    "z5_q1 = 1 - z5_p1\n",
    "z5_q2 = 1 - z5_p2\n",
    "z5_q3 = 1 - z5_p3"
   ]
  },
  {
   "cell_type": "markdown",
   "id": "7f5a4c36",
   "metadata": {},
   "source": [
    "Вероятность того, что в первый месяц выйдут из строя все детали (и первая, и вторая, и третья):"
   ]
  },
  {
   "cell_type": "code",
   "execution_count": 20,
   "id": "3d3b2980",
   "metadata": {},
   "outputs": [
    {
     "data": {
      "text/plain": [
       "0.005000000000000001"
      ]
     },
     "execution_count": 20,
     "metadata": {},
     "output_type": "execute_result"
    }
   ],
   "source": [
    "z5P1 = z5_p1 * z5_p2 * z5_p3\n",
    "z5P1"
   ]
  },
  {
   "cell_type": "markdown",
   "id": "726f5d61",
   "metadata": {},
   "source": [
    "Вероятность того, что в первый месяц выйдут из строя только две детали (или первая и вторая, или первая и третья, или вторая и третья):"
   ]
  },
  {
   "cell_type": "code",
   "execution_count": 21,
   "id": "a05f49d3",
   "metadata": {},
   "outputs": [
    {
     "data": {
      "text/plain": [
       "0.08000000000000002"
      ]
     },
     "execution_count": 21,
     "metadata": {},
     "output_type": "execute_result"
    }
   ],
   "source": [
    "z5P2 = (z5_p1 * z5_p2 * z5_q3) + (z5_p1 * z5_q2 * z5_p3) + (z5_q1 * z5_p2 * z5_p3)\n",
    "z5P2"
   ]
  },
  {
   "cell_type": "markdown",
   "id": "cea70cf8",
   "metadata": {},
   "source": [
    "Вероятность того, что в первый месяц выйдет из строя хотя бы одна деталь - от 100% отнять вероятность, когда все 3 не вышли из строя (вероятность наступления противоположного события)"
   ]
  },
  {
   "cell_type": "code",
   "execution_count": 22,
   "id": "c1966a05",
   "metadata": {},
   "outputs": [
    {
     "data": {
      "text/plain": [
       "0.45999999999999996"
      ]
     },
     "execution_count": 22,
     "metadata": {},
     "output_type": "execute_result"
    }
   ],
   "source": [
    "z5P3 = 1 - (z5_q1 * z5_q2 * z5_q3)\n",
    "z5P3"
   ]
  },
  {
   "cell_type": "markdown",
   "id": "3c611690",
   "metadata": {},
   "source": [
    "Вероятность того, что в первый месяц выйдут из строя от одной до двух деталей - от 100% отнять вероятность, когда все три вышли из строя и когда все три не вышли из строя"
   ]
  },
  {
   "cell_type": "code",
   "execution_count": 23,
   "id": "d091f92e",
   "metadata": {},
   "outputs": [
    {
     "data": {
      "text/plain": [
       "0.45499999999999996"
      ]
     },
     "execution_count": 23,
     "metadata": {},
     "output_type": "execute_result"
    }
   ],
   "source": [
    "z5P4 = 1 - (z5_p1 * z5_p2 * z5_p3) - (z5_q1 * z5_q2 * z5_q3)\n",
    "z5P4"
   ]
  },
  {
   "cell_type": "code",
   "execution_count": null,
   "id": "0d7c570e",
   "metadata": {},
   "outputs": [],
   "source": []
  }
 ],
 "metadata": {
  "kernelspec": {
   "display_name": "Python 3 (ipykernel)",
   "language": "python",
   "name": "python3"
  },
  "language_info": {
   "codemirror_mode": {
    "name": "ipython",
    "version": 3
   },
   "file_extension": ".py",
   "mimetype": "text/x-python",
   "name": "python",
   "nbconvert_exporter": "python",
   "pygments_lexer": "ipython3",
   "version": "3.9.7"
  }
 },
 "nbformat": 4,
 "nbformat_minor": 5
}
